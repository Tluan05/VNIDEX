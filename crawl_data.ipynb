{
 "cells": [
  {
   "cell_type": "code",
   "execution_count": 383,
   "id": "ca965f99",
   "metadata": {},
   "outputs": [],
   "source": [
    "\n",
    "import yfinance as yf\n",
    "import pandas as pd\n",
    "import numpy as np\n",
    "from sklearn.model_selection import train_test_split\n",
    "from xgboost import XGBClassifier\n",
    "import xgboost as xgb\n",
    "from sklearn.metrics import classification_report, confusion_matrix\n",
    "from sklearn.metrics import roc_auc_score, roc_curve\n",
    "import matplotlib.pyplot as plt\n",
    "from sklearn.metrics import roc_auc_score\n",
    "from sklearn.preprocessing import label_binarize"
   ]
  },
  {
   "cell_type": "markdown",
   "id": "4dd64dc2",
   "metadata": {},
   "source": [
    "load DAATA\n"
   ]
  },
  {
   "cell_type": "code",
   "execution_count": 384,
   "id": "94913439",
   "metadata": {},
   "outputs": [
    {
     "name": "stderr",
     "output_type": "stream",
     "text": [
      "[*********************100%***********************]  1 of 1 completed\n"
     ]
    }
   ],
   "source": [
    "TICKER = \"^VNINDEX.VN\"          \n",
    "PERIOD = \"720d\"               \n",
    "INTERVAL = \"60m\"              \n",
    "df = yf.download(TICKER, period=PERIOD, interval=INTERVAL, auto_adjust=True)\n",
    "df.to_csv('Data_VNIDEX_1H.csv')\n"
   ]
  },
  {
   "cell_type": "markdown",
   "id": "847659db",
   "metadata": {},
   "source": [
    "đọc data và hiểu"
   ]
  },
  {
   "cell_type": "code",
   "execution_count": 385,
   "id": "2c849bd5",
   "metadata": {},
   "outputs": [],
   "source": [
    "df = pd.read_csv('Data_VNIDEX_1H.csv')"
   ]
  },
  {
   "cell_type": "code",
   "execution_count": 386,
   "id": "f4c228e0",
   "metadata": {},
   "outputs": [
    {
     "data": {
      "text/html": [
       "<div>\n",
       "<style scoped>\n",
       "    .dataframe tbody tr th:only-of-type {\n",
       "        vertical-align: middle;\n",
       "    }\n",
       "\n",
       "    .dataframe tbody tr th {\n",
       "        vertical-align: top;\n",
       "    }\n",
       "\n",
       "    .dataframe thead th {\n",
       "        text-align: right;\n",
       "    }\n",
       "</style>\n",
       "<table border=\"1\" class=\"dataframe\">\n",
       "  <thead>\n",
       "    <tr style=\"text-align: right;\">\n",
       "      <th></th>\n",
       "      <th>Price</th>\n",
       "      <th>Close</th>\n",
       "      <th>High</th>\n",
       "      <th>Low</th>\n",
       "      <th>Open</th>\n",
       "      <th>Volume</th>\n",
       "    </tr>\n",
       "  </thead>\n",
       "  <tbody>\n",
       "    <tr>\n",
       "      <th>0</th>\n",
       "      <td>Ticker</td>\n",
       "      <td>^VNINDEX.VN</td>\n",
       "      <td>^VNINDEX.VN</td>\n",
       "      <td>^VNINDEX.VN</td>\n",
       "      <td>^VNINDEX.VN</td>\n",
       "      <td>^VNINDEX.VN</td>\n",
       "    </tr>\n",
       "    <tr>\n",
       "      <th>1</th>\n",
       "      <td>Datetime</td>\n",
       "      <td>NaN</td>\n",
       "      <td>NaN</td>\n",
       "      <td>NaN</td>\n",
       "      <td>NaN</td>\n",
       "      <td>NaN</td>\n",
       "    </tr>\n",
       "    <tr>\n",
       "      <th>2</th>\n",
       "      <td>2023-07-20 02:00:00+00:00</td>\n",
       "      <td>1170.719970703125</td>\n",
       "      <td>1174.3900146484375</td>\n",
       "      <td>1169.7099609375</td>\n",
       "      <td>1172.97998046875</td>\n",
       "      <td>0</td>\n",
       "    </tr>\n",
       "    <tr>\n",
       "      <th>3</th>\n",
       "      <td>2023-07-20 03:00:00+00:00</td>\n",
       "      <td>1168.0400390625</td>\n",
       "      <td>1171.3199462890625</td>\n",
       "      <td>1167.6800537109375</td>\n",
       "      <td>1170.6600341796875</td>\n",
       "      <td>0</td>\n",
       "    </tr>\n",
       "    <tr>\n",
       "      <th>4</th>\n",
       "      <td>2023-07-20 04:00:00+00:00</td>\n",
       "      <td>1167.9599609375</td>\n",
       "      <td>1169.6400146484375</td>\n",
       "      <td>1167.3199462890625</td>\n",
       "      <td>1168.239990234375</td>\n",
       "      <td>0</td>\n",
       "    </tr>\n",
       "  </tbody>\n",
       "</table>\n",
       "</div>"
      ],
      "text/plain": [
       "                       Price              Close                High  \\\n",
       "0                     Ticker        ^VNINDEX.VN         ^VNINDEX.VN   \n",
       "1                   Datetime                NaN                 NaN   \n",
       "2  2023-07-20 02:00:00+00:00  1170.719970703125  1174.3900146484375   \n",
       "3  2023-07-20 03:00:00+00:00    1168.0400390625  1171.3199462890625   \n",
       "4  2023-07-20 04:00:00+00:00    1167.9599609375  1169.6400146484375   \n",
       "\n",
       "                  Low                Open       Volume  \n",
       "0         ^VNINDEX.VN         ^VNINDEX.VN  ^VNINDEX.VN  \n",
       "1                 NaN                 NaN          NaN  \n",
       "2     1169.7099609375    1172.97998046875            0  \n",
       "3  1167.6800537109375  1170.6600341796875            0  \n",
       "4  1167.3199462890625   1168.239990234375            0  "
      ]
     },
     "execution_count": 386,
     "metadata": {},
     "output_type": "execute_result"
    }
   ],
   "source": [
    "df.head()\n"
   ]
  },
  {
   "cell_type": "code",
   "execution_count": 387,
   "id": "831ddb7b",
   "metadata": {},
   "outputs": [],
   "source": [
    "\n",
    "df.columns = ['thoi_gian', 'gia_dong_cua', 'gia_cao_nhat', 'gia_thap_nhat', 'gia_mo_cua', 'khoi_luong']"
   ]
  },
  {
   "cell_type": "code",
   "execution_count": 388,
   "id": "5f9329f6",
   "metadata": {},
   "outputs": [
    {
     "name": "stderr",
     "output_type": "stream",
     "text": [
      "C:\\Users\\luan0\\AppData\\Local\\Temp\\ipykernel_5132\\3384631275.py:1: UserWarning: Could not infer format, so each element will be parsed individually, falling back to `dateutil`. To ensure parsing is consistent and as-expected, please specify a format.\n",
      "  df['thoi_gian'] = pd.to_datetime(df['thoi_gian'], errors='coerce')\n"
     ]
    }
   ],
   "source": [
    "df['thoi_gian'] = pd.to_datetime(df['thoi_gian'], errors='coerce')\n",
    "df['thoi_gian'] = df['thoi_gian'].dt.tz_convert('Asia/Ho_Chi_Minh')\n",
    "df = df.dropna(subset=['thoi_gian']).reset_index(drop=True)"
   ]
  },
  {
   "cell_type": "code",
   "execution_count": 389,
   "id": "0029060b",
   "metadata": {},
   "outputs": [],
   "source": [
    "df = df.drop(columns=['khoi_luong'])"
   ]
  },
  {
   "cell_type": "code",
   "execution_count": 390,
   "id": "c2a6d519",
   "metadata": {},
   "outputs": [],
   "source": [
    "cols = ['gia_dong_cua', 'gia_cao_nhat', 'gia_thap_nhat', 'gia_mo_cua',]\n",
    "for col in cols:\n",
    "    df[col] = pd.to_numeric(df[col], errors='coerce')"
   ]
  },
  {
   "cell_type": "markdown",
   "id": "3702d542",
   "metadata": {},
   "source": [
    "feature"
   ]
  },
  {
   "cell_type": "markdown",
   "id": "705d6dfc",
   "metadata": {},
   "source": [
    "bien dong"
   ]
  },
  {
   "cell_type": "code",
   "execution_count": 391,
   "id": "77d4c0c7",
   "metadata": {},
   "outputs": [],
   "source": [
    "df['bien_do'] = df['gia_cao_nhat'] - df['gia_thap_nhat']\n",
    "df['ty_le_thay_doi'] = (df['gia_dong_cua'] - df['gia_mo_cua']) / df['gia_mo_cua']"
   ]
  },
  {
   "cell_type": "markdown",
   "id": "728e2273",
   "metadata": {},
   "source": [
    "mo hinh nến"
   ]
  },
  {
   "cell_type": "code",
   "execution_count": 392,
   "id": "daa9e868",
   "metadata": {},
   "outputs": [],
   "source": [
    "df['rau_tren'] = df['gia_cao_nhat'] - df[['gia_mo_cua', 'gia_dong_cua']].max(axis=1)\n",
    "df['rau_duoi'] = df[['gia_mo_cua', 'gia_dong_cua']].min(axis=1) - df['gia_thap_nhat']\n",
    "df['than_nen'] = abs(df['gia_dong_cua'] - df['gia_mo_cua'])\n",
    "df['la_nen_xanh'] = (df['gia_dong_cua'] > df['gia_mo_cua']).astype(int)\n",
    "df['ty_le_than_voi_range'] = df['than_nen'] / df['bien_do'].replace(0, np.nan)"
   ]
  },
  {
   "cell_type": "markdown",
   "id": "e2370043",
   "metadata": {},
   "source": [
    "xu hương"
   ]
  },
  {
   "cell_type": "code",
   "execution_count": 393,
   "id": "b821aa11",
   "metadata": {},
   "outputs": [],
   "source": [
    "df['xu_huong_3'] = df['gia_dong_cua'] - df['gia_dong_cua'].shift(3)\n",
    "df['xu_huong_5'] = df['gia_dong_cua'] - df['gia_dong_cua'].shift(5)"
   ]
  },
  {
   "cell_type": "markdown",
   "id": "71ef850f",
   "metadata": {},
   "source": [
    " Biến động ngắn hạn\n"
   ]
  },
  {
   "cell_type": "code",
   "execution_count": 394,
   "id": "100c304a",
   "metadata": {},
   "outputs": [],
   "source": [
    "df['do_lech_chuan_3'] = df['gia_dong_cua'].rolling(3).std()\n",
    "df['do_lech_chuan_5'] = df['gia_dong_cua'].rolling(5).std()"
   ]
  },
  {
   "cell_type": "markdown",
   "id": "efb17e53",
   "metadata": {},
   "source": [
    "cuốn chíu"
   ]
  },
  {
   "cell_type": "code",
   "execution_count": 395,
   "id": "43b0df12",
   "metadata": {},
   "outputs": [],
   "source": [
    "df['trung_vi_5h'] = df['gia_dong_cua'].rolling(5).median()\n",
    "df['max_5h'] = df['gia_dong_cua'].rolling(5).max()\n",
    "df['min_5h'] = df['gia_dong_cua'].rolling(5).min()\n",
    "df['do_lech_trung_vi'] = df['gia_dong_cua'] - df['trung_vi_5h']\n",
    "df['skew_5h'] = df['gia_dong_cua'].rolling(5).skew()\n",
    "df['kurt_5h'] = df['gia_dong_cua'].rolling(5).kurt()"
   ]
  },
  {
   "cell_type": "markdown",
   "id": "8e03424a",
   "metadata": {},
   "source": [
    "khỏng trống giá"
   ]
  },
  {
   "cell_type": "code",
   "execution_count": 396,
   "id": "4c8ef0bb",
   "metadata": {},
   "outputs": [],
   "source": [
    "df['gap_len'] = ((df['gia_mo_cua'] - df['gia_dong_cua'].shift(1)) / df['gia_dong_cua'].shift(1)) > 0.01\n",
    "df['gap_xuong'] = ((df['gia_mo_cua'] - df['gia_dong_cua'].shift(1)) / df['gia_dong_cua'].shift(1)) < -0.01"
   ]
  },
  {
   "cell_type": "markdown",
   "id": "fe5ec90b",
   "metadata": {},
   "source": [
    "lag"
   ]
  },
  {
   "cell_type": "code",
   "execution_count": 397,
   "id": "6e770e48",
   "metadata": {},
   "outputs": [],
   "source": [
    "for i in range(1, 11):\n",
    "    df[f'gia_dong_cua_lag_{i}'] = df['gia_dong_cua'].shift(i)\n"
   ]
  },
  {
   "cell_type": "code",
   "execution_count": 398,
   "id": "9c531e9b",
   "metadata": {},
   "outputs": [],
   "source": [
    "df = df.dropna().reset_index(drop=True)"
   ]
  },
  {
   "cell_type": "markdown",
   "id": "d5511f24",
   "metadata": {},
   "source": [
    "label"
   ]
  },
  {
   "cell_type": "code",
   "execution_count": 399,
   "id": "f4a0777f",
   "metadata": {},
   "outputs": [
    {
     "name": "stdout",
     "output_type": "stream",
     "text": [
      "['thoi_gian', 'gia_dong_cua', 'gia_cao_nhat', 'gia_thap_nhat', 'gia_mo_cua', 'bien_do', 'ty_le_thay_doi', 'rau_tren', 'rau_duoi', 'than_nen', 'la_nen_xanh', 'ty_le_than_voi_range', 'xu_huong_3', 'xu_huong_5', 'do_lech_chuan_3', 'do_lech_chuan_5', 'trung_vi_5h', 'max_5h', 'min_5h', 'do_lech_trung_vi', 'skew_5h', 'kurt_5h', 'gap_len', 'gap_xuong', 'gia_dong_cua_lag_1', 'gia_dong_cua_lag_2', 'gia_dong_cua_lag_3', 'gia_dong_cua_lag_4', 'gia_dong_cua_lag_5', 'gia_dong_cua_lag_6', 'gia_dong_cua_lag_7', 'gia_dong_cua_lag_8', 'gia_dong_cua_lag_9', 'gia_dong_cua_lag_10']\n"
     ]
    }
   ],
   "source": [
    "print(df.columns.tolist())\n"
   ]
  },
  {
   "cell_type": "code",
   "execution_count": 400,
   "id": "de993792",
   "metadata": {},
   "outputs": [],
   "source": [
    "n = 20\n",
    "df['percent_change_future'] = (df['gia_dong_cua'].shift(-n) - df['gia_dong_cua']) / df['gia_dong_cua']\n",
    "df['label'] = 0\n",
    "df.loc[df['percent_change_future'] > 0.01, 'label'] = 2\n",
    "df.loc[df['percent_change_future'] < -0.01, 'label'] = 1\n"
   ]
  },
  {
   "cell_type": "code",
   "execution_count": 401,
   "id": "426a819e",
   "metadata": {},
   "outputs": [
    {
     "name": "stdout",
     "output_type": "stream",
     "text": [
      "label\n",
      "0    1027\n",
      "2     904\n",
      "1     549\n",
      "Name: count, dtype: int64\n"
     ]
    }
   ],
   "source": [
    "print(df['label'].value_counts())\n"
   ]
  },
  {
   "cell_type": "markdown",
   "id": "2c9b7638",
   "metadata": {},
   "source": [
    "model"
   ]
  },
  {
   "cell_type": "code",
   "execution_count": 402,
   "id": "3a6a4a1c",
   "metadata": {},
   "outputs": [],
   "source": [
    "X = df.drop(columns=['thoi_gian', 'label','percent_change_future'], errors='ignore')\n",
    "y = df['label']\n",
    "X = X.dropna()\n",
    "y = y.loc[X.index]"
   ]
  },
  {
   "cell_type": "code",
   "execution_count": 403,
   "id": "9330dc78",
   "metadata": {},
   "outputs": [
    {
     "name": "stderr",
     "output_type": "stream",
     "text": [
      "c:\\Users\\luan0\\AppData\\Local\\Programs\\Python\\Python310\\lib\\site-packages\\xgboost\\training.py:183: UserWarning: [18:58:24] WARNING: C:\\actions-runner\\_work\\xgboost\\xgboost\\src\\learner.cc:738: \n",
      "Parameters: { \"use_label_encoder\" } are not used.\n",
      "\n",
      "  bst.update(dtrain, iteration=i, fobj=obj)\n"
     ]
    },
    {
     "name": "stdout",
     "output_type": "stream",
     "text": [
      "              precision    recall  f1-score   support\n",
      "\n",
      "           0       0.56      0.64      0.60       205\n",
      "           1       0.48      0.29      0.36       110\n",
      "           2       0.64      0.69      0.67       181\n",
      "\n",
      "    accuracy                           0.58       496\n",
      "   macro avg       0.56      0.54      0.54       496\n",
      "weighted avg       0.57      0.58      0.57       496\n",
      "\n"
     ]
    }
   ],
   "source": [
    "\n",
    "X_train, X_test, y_train, y_test = train_test_split(X, y, test_size=0.2, random_state=42, stratify=y)\n",
    "\n",
    "model = xgb.XGBClassifier(\n",
    "    objective='binary:logistic' if y.nunique() == 2 else 'multi:softmax',\n",
    "    num_class=y.nunique() if y.nunique() > 2 else None,\n",
    "    eval_metric='mlogloss' if y.nunique() > 2 else 'logloss',\n",
    "    use_label_encoder=False,\n",
    "    random_state=42\n",
    ")\n",
    "\n",
    "model.fit(X_train, y_train)\n",
    "\n",
    "y_pred = model.predict(X_test)\n",
    "print(classification_report(y_test, y_pred))\n",
    "\n"
   ]
  },
  {
   "cell_type": "code",
   "execution_count": 404,
   "id": "633b9f5a",
   "metadata": {},
   "outputs": [
    {
     "name": "stdout",
     "output_type": "stream",
     "text": [
      "Train shape: (1984, 33)\n",
      "Test shape: (496, 33)\n",
      "Train label: label\n",
      "0    822\n",
      "2    723\n",
      "1    439\n",
      "Name: count, dtype: int64\n",
      "Test label: label\n",
      "0    205\n",
      "2    181\n",
      "1    110\n",
      "Name: count, dtype: int64\n"
     ]
    }
   ],
   "source": [
    "print(\"Train shape:\", X_train.shape)\n",
    "print(\"Test shape:\", X_test.shape)\n",
    "print(\"Train label:\", y_train.value_counts())\n",
    "print(\"Test label:\", y_test.value_counts())\n"
   ]
  },
  {
   "cell_type": "code",
   "execution_count": 405,
   "id": "3d577358",
   "metadata": {},
   "outputs": [],
   "source": [
    "y_test_bin = label_binarize(y_test, classes=[0, 1, 2])\n",
    "y_proba = model.predict_proba(X_test)\n",
    "\n",
    "auc_score = roc_auc_score(y_test_bin, y_proba, multi_class='ovr')  "
   ]
  },
  {
   "cell_type": "code",
   "execution_count": 406,
   "id": "71037568",
   "metadata": {},
   "outputs": [
    {
     "data": {
      "text/plain": [
       "np.float64(0.7714720877743874)"
      ]
     },
     "execution_count": 406,
     "metadata": {},
     "output_type": "execute_result"
    }
   ],
   "source": [
    "auc_score"
   ]
  }
 ],
 "metadata": {
  "kernelspec": {
   "display_name": "Python 3",
   "language": "python",
   "name": "python3"
  },
  "language_info": {
   "codemirror_mode": {
    "name": "ipython",
    "version": 3
   },
   "file_extension": ".py",
   "mimetype": "text/x-python",
   "name": "python",
   "nbconvert_exporter": "python",
   "pygments_lexer": "ipython3",
   "version": "3.10.11"
  }
 },
 "nbformat": 4,
 "nbformat_minor": 5
}
